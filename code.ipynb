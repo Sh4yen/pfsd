{
 "cells": [
  {
   "cell_type": "markdown",
   "metadata": {},
   "source": [
    "# Bernoulli gleichung mit Verlusten"
   ]
  },
  {
   "cell_type": "code",
   "execution_count": 31,
   "metadata": {},
   "outputs": [],
   "source": [
    "from sympy import *"
   ]
  },
  {
   "cell_type": "markdown",
   "metadata": {},
   "source": [
    "# Goal\n",
    "The goal of this programm is to calculate the achivable massflow within the injector of a rocket engine. The massflow is the product of flowspeed at the injector nozzle, the area of the nozzle and the density of the flowing fluid. All these parameters must be known in order to calculate it. Whilest the density of the fluids is a somewhat static parameter, the area of the nozzle and the speed of injection are linked and both dependent on the pressure drop over the system as can be seen in bernoullis equation for pipe flows with loss.\n",
    "\n",
    "![image.png](attachment:image.png)\n",
    "\n",
    "c_1: Velocity at start <br>\n",
    "z_1: Height at start <br>\n",
    "p_1: Pressure at start <br>\n",
    "c_2: Velocity at end <br>\n",
    "z_2: Height at end <br>\n",
    "p_2: Pressure at end <br>\n",
    "rho: density of fluid <br>\n",
    "g: acceleration due to gravity <br>\n",
    "\n",
    "![image-2.png](attachment:image-2.png)"
   ]
  },
  {
   "cell_type": "code",
   "execution_count": 32,
   "metadata": {},
   "outputs": [
    {
     "name": "stdout",
     "output_type": "stream",
     "text": [
      "Equation 1: Eq(x + y, 5)\n",
      "Equation 2: Eq(x - y, 5)\n",
      "Solution: {x: 5, y: 0}\n"
     ]
    }
   ],
   "source": [
    "# Bernoulligleichung mit Verlusten\n",
    "def bernoulli_pressure(grav_accel:float, density: float, velocity_start: float, height_start: float, pressure_start: float, velocity_end: float, height_end: float, pressure_end: float, pressure_loss_terms: list):\n",
    "    \n",
    "    for i in pressure_loss_terms:\n",
    "        pressure_loss += i\n",
    "        \n",
    "\n",
    "\n"
   ]
  }
 ],
 "metadata": {
  "kernelspec": {
   "display_name": "Python 3",
   "language": "python",
   "name": "python3"
  },
  "language_info": {
   "codemirror_mode": {
    "name": "ipython",
    "version": 3
   },
   "file_extension": ".py",
   "mimetype": "text/x-python",
   "name": "python",
   "nbconvert_exporter": "python",
   "pygments_lexer": "ipython3",
   "version": "3.11.7"
  }
 },
 "nbformat": 4,
 "nbformat_minor": 2
}
